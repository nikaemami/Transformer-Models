{
 "cells": [
  {
   "cell_type": "markdown",
   "metadata": {
    "id": "SPV-qmFgyjJh"
   },
   "source": [
    "# Question 4"
   ]
  },
  {
   "cell_type": "markdown",
   "metadata": {
    "id": "NHcAvvcpyoWu"
   },
   "source": [
    "First I import the needed libraries as below:"
   ]
  },
  {
   "cell_type": "code",
   "execution_count": 3,
   "metadata": {
    "id": "E2FlMgmlytJe"
   },
   "outputs": [],
   "source": [
    "import torch\n",
    "import torch.nn as nn\n",
    "import torch.nn.functional as F\n",
    "import torchvision\n",
    "import torchvision.transforms as transforms\n",
    "import torch.optim as optim\n",
    "from einops import rearrange\n",
    "from tqdm import tqdm"
   ]
  },
  {
   "cell_type": "code",
   "execution_count": 2,
   "metadata": {
    "colab": {
     "base_uri": "https://localhost:8080/"
    },
    "id": "8VLIiyUp-Nlg",
    "outputId": "7fe32620-51e1-4367-95bf-bf4e8435f82b"
   },
   "outputs": [
    {
     "name": "stdout",
     "output_type": "stream",
     "text": [
      "Collecting einops\n",
      "  Downloading einops-0.7.0-py3-none-any.whl (44 kB)\n",
      "\u001b[2K     \u001b[90m━━━━━━━━━━━━━━━━━━━━━━━━━━━━━━━━━━━━━━━━\u001b[0m \u001b[32m44.6/44.6 kB\u001b[0m \u001b[31m210.6 kB/s\u001b[0m eta \u001b[36m0:00:00\u001b[0m\n",
      "\u001b[?25hInstalling collected packages: einops\n",
      "Successfully installed einops-0.7.0\n"
     ]
    }
   ],
   "source": [
    "!pip install einops"
   ]
  },
  {
   "cell_type": "markdown",
   "metadata": {
    "id": "TYlbkNQDyt1j"
   },
   "source": [
    "Next, I load the data using PyTorch. I use transforms to convert the images into PyTorch tensors,\n",
    "and also normalize the tensor image with mean and standard deviation (0.5, 0.5). I then create\n",
    "instances of the FashionMNIST dataset for training and testing, and create data loaders for the\n",
    "train and test sets using batch size of 64"
   ]
  },
  {
   "cell_type": "code",
   "execution_count": 4,
   "metadata": {
    "colab": {
     "base_uri": "https://localhost:8080/"
    },
    "id": "vXvSPVzszhtg",
    "outputId": "bd13b37e-3c0f-4c97-a163-17a751a4a6b6"
   },
   "outputs": [
    {
     "name": "stdout",
     "output_type": "stream",
     "text": [
      "Downloading http://fashion-mnist.s3-website.eu-central-1.amazonaws.com/train-images-idx3-ubyte.gz\n",
      "Downloading http://fashion-mnist.s3-website.eu-central-1.amazonaws.com/train-images-idx3-ubyte.gz to ./data/FashionMNIST/raw/train-images-idx3-ubyte.gz\n"
     ]
    },
    {
     "name": "stderr",
     "output_type": "stream",
     "text": [
      "100%|██████████| 26421880/26421880 [00:02<00:00, 10178166.83it/s]\n"
     ]
    },
    {
     "name": "stdout",
     "output_type": "stream",
     "text": [
      "Extracting ./data/FashionMNIST/raw/train-images-idx3-ubyte.gz to ./data/FashionMNIST/raw\n",
      "\n",
      "Downloading http://fashion-mnist.s3-website.eu-central-1.amazonaws.com/train-labels-idx1-ubyte.gz\n",
      "Downloading http://fashion-mnist.s3-website.eu-central-1.amazonaws.com/train-labels-idx1-ubyte.gz to ./data/FashionMNIST/raw/train-labels-idx1-ubyte.gz\n"
     ]
    },
    {
     "name": "stderr",
     "output_type": "stream",
     "text": [
      "100%|██████████| 29515/29515 [00:00<00:00, 171639.11it/s]\n"
     ]
    },
    {
     "name": "stdout",
     "output_type": "stream",
     "text": [
      "Extracting ./data/FashionMNIST/raw/train-labels-idx1-ubyte.gz to ./data/FashionMNIST/raw\n",
      "\n",
      "Downloading http://fashion-mnist.s3-website.eu-central-1.amazonaws.com/t10k-images-idx3-ubyte.gz\n",
      "Downloading http://fashion-mnist.s3-website.eu-central-1.amazonaws.com/t10k-images-idx3-ubyte.gz to ./data/FashionMNIST/raw/t10k-images-idx3-ubyte.gz\n"
     ]
    },
    {
     "name": "stderr",
     "output_type": "stream",
     "text": [
      "100%|██████████| 4422102/4422102 [00:01<00:00, 3201888.46it/s]\n"
     ]
    },
    {
     "name": "stdout",
     "output_type": "stream",
     "text": [
      "Extracting ./data/FashionMNIST/raw/t10k-images-idx3-ubyte.gz to ./data/FashionMNIST/raw\n",
      "\n",
      "Downloading http://fashion-mnist.s3-website.eu-central-1.amazonaws.com/t10k-labels-idx1-ubyte.gz\n",
      "Downloading http://fashion-mnist.s3-website.eu-central-1.amazonaws.com/t10k-labels-idx1-ubyte.gz to ./data/FashionMNIST/raw/t10k-labels-idx1-ubyte.gz\n"
     ]
    },
    {
     "name": "stderr",
     "output_type": "stream",
     "text": [
      "100%|██████████| 5148/5148 [00:00<00:00, 20142049.43it/s]"
     ]
    },
    {
     "name": "stdout",
     "output_type": "stream",
     "text": [
      "Extracting ./data/FashionMNIST/raw/t10k-labels-idx1-ubyte.gz to ./data/FashionMNIST/raw\n",
      "\n"
     ]
    },
    {
     "name": "stderr",
     "output_type": "stream",
     "text": [
      "\n"
     ]
    }
   ],
   "source": [
    "transform = transforms.Compose([transforms.ToTensor(), transforms.Normalize((0.5,), (0.5,))])\n",
    "train_data = torchvision.datasets.FashionMNIST(root='./data', train=True, download=True, transform=transform)\n",
    "dataloader_train = torch.utils.data.DataLoader(train_data, batch_size=64, shuffle=True)\n",
    "test_data = torchvision.datasets.FashionMNIST(root='./data', train=False, download=True, transform=transform)\n",
    "dataloader_test = torch.utils.data.DataLoader(test_data, batch_size=64, shuffle=False)"
   ]
  },
  {
   "cell_type": "markdown",
   "metadata": {
    "id": "0pL4uizAz_gD"
   },
   "source": [
    "Next, in the following cells I define modules to"
   ]
  },
  {
   "cell_type": "markdown",
   "metadata": {
    "id": "aBexGZ9xzi0C"
   },
   "source": [
    "I define this patch_embed class which converts an input image into a sequence of patches (with patch size equal to 4, as specified in the question), where each patch is embedded into a lower-dimensional space, and then fed into a transformer-based model for image classification."
   ]
  },
  {
   "cell_type": "code",
   "execution_count": 5,
   "metadata": {
    "id": "_oWm7XMG0KdU"
   },
   "outputs": [],
   "source": [
    "class patch_embed(nn.Module):\n",
    "    def __init__(self, size_input=28, patch_size=4, in_channels=1, embed_dim=64):\n",
    "        super(patch_embed, self).__init__()\n",
    "        self.size_input = size_input\n",
    "        self.patch_size = patch_size\n",
    "        self.embed = nn.Conv2d(in_channels, embed_dim, kernel_size=patch_size, stride=patch_size)\n",
    "\n",
    "\n",
    "    def forward(self, data):\n",
    "        # Apply a 2D convolution, dividing the image into patches and embedding each patch into a lower-dimensional space.\n",
    "        data = self.embed(data)\n",
    "        data = data.permute(0, 2, 3, 1)\n",
    "        data = data.contiguous().view(data.size(0), -1, data.size(-1))\n",
    "        return data"
   ]
  },
  {
   "cell_type": "markdown",
   "metadata": {
    "id": "B8PoZaRR12HN"
   },
   "source": [
    "Next, I implement the multi-head attention mechanism as below:"
   ]
  },
  {
   "cell_type": "code",
   "execution_count": 6,
   "metadata": {
    "id": "YSVj-77V2Ifq"
   },
   "outputs": [],
   "source": [
    "class Multi_Head_Attention(nn.Module):\n",
    "    def __init__(self, embed_dim=64, num_heads=4):\n",
    "        super(Multi_Head_Attention, self).__init__()\n",
    "\n",
    "        # Initializing the number of heads\n",
    "        self.num_heads = num_heads\n",
    "\n",
    "        # Linear transformations for query, key, and value\n",
    "        self.query = nn.Linear(embed_dim, embed_dim)\n",
    "        self.key = nn.Linear(embed_dim, embed_dim)\n",
    "        self.value = nn.Linear(embed_dim, embed_dim)\n",
    "\n",
    "        # Calculating the dimensionality of each head\n",
    "        self.head_dim = embed_dim // num_heads\n",
    "        self.scale = self.head_dim ** -0.5\n",
    "\n",
    "        # Final linear transformation\n",
    "        self.final_FC = nn.Linear(embed_dim, embed_dim)\n",
    "\n",
    "    def forward(self, query, key, value):\n",
    "\n",
    "        # Linear transformationa and reshaping the tensors to split it into multiple heads\n",
    "        # for query, key, and value\n",
    "\n",
    "        Q = self.query(query)\n",
    "        Q_shape = (Q.size(0), self.num_heads, Q.size(1), self.head_dim)\n",
    "        Q = Q.view(*Q_shape)\n",
    "\n",
    "\n",
    "        K = self.key(key)\n",
    "        K_shape = (K.size(0), self.num_heads, K.size(1), self.head_dim)\n",
    "        K = K.view(*K_shape)\n",
    "\n",
    "\n",
    "        V = self.value(value)\n",
    "        V_shape = (V.size(0), self.num_heads, V.size(1), self.head_dim)\n",
    "        V = V.view(*V_shape)\n",
    "\n",
    "        # Computing attention scores and applying softmax to get attention weights\n",
    "        summation = torch.einsum('bhid,bhjd->bhij', Q, K) * self.scale\n",
    "        attention_score = F.softmax(summation, dim=-1)\n",
    "\n",
    "        # The weighted sum of the value vectors\n",
    "        result = torch.einsum('bhij,bhjd->bhid', attention_score, V)\n",
    "\n",
    "        # Reshaping the result back to the original shape and applying final linear transformation\n",
    "        result = rearrange(result, 'b h n d -> b n (h d)')\n",
    "        result = self.final_FC(result)\n",
    "        return result"
   ]
  },
  {
   "cell_type": "markdown",
   "metadata": {
    "id": "bnIQO5Lz5RfK"
   },
   "source": [
    "Next, using the above module, I implement a Transformer class:"
   ]
  },
  {
   "cell_type": "code",
   "execution_count": 7,
   "metadata": {
    "id": "Djdcpy3L5RGB"
   },
   "outputs": [],
   "source": [
    "class Transformer_(nn.Module):\n",
    "    def __init__(self, embed_dim=64, num_heads=4, hidden_dim=64):\n",
    "        super(Transformer_, self).__init__()\n",
    "\n",
    "        # applying the multi-head attention mechanism\n",
    "        self.attention = Multi_Head_Attention(embed_dim, num_heads)\n",
    "\n",
    "        # Layer normalization after the attention mechanism\n",
    "        self.norm_attention = nn.LayerNorm(embed_dim)\n",
    "\n",
    "        # MLP for each position in the sequence\n",
    "        self.mlp = nn.Sequential(\n",
    "            nn.Linear(embed_dim, hidden_dim),\n",
    "            nn.ReLU(),\n",
    "            nn.Linear(hidden_dim, embed_dim)\n",
    "        )\n",
    "\n",
    "        # Layer normalization after the MLP\n",
    "        self.norm_mlp = nn.LayerNorm(embed_dim)\n",
    "\n",
    "    def forward(self, data):\n",
    "        attention_output = self.attention(data, data, data)\n",
    "\n",
    "        # Layer normalization and residual connection\n",
    "        data = self.norm_attention(data + attention_output)\n",
    "\n",
    "        nn_output = self.mlp(data)\n",
    "\n",
    "        # Layer normalization and residual connection\n",
    "        data = self.norm_mlp(data + nn_output)\n",
    "\n",
    "        return data"
   ]
  },
  {
   "cell_type": "markdown",
   "metadata": {
    "id": "-HIiRXo-7MtM"
   },
   "source": [
    "Finally, I define the vision transformer module as below, using 6 ViT layers and 4 heads, with 10 output classes for the classification task:"
   ]
  },
  {
   "cell_type": "code",
   "execution_count": 8,
   "metadata": {
    "id": "E11ZnDbg1JE8"
   },
   "outputs": [],
   "source": [
    "class Vision_Transformer(nn.Module):\n",
    "    def __init__(self, size_input = 28, patch_size=4, in_channels=1, embed_dim=64, num_ViT_layers=6, num_heads=4, hidden_dim=64, num_classes=10):\n",
    "        super(Vision_Transformer, self).__init__()\n",
    "\n",
    "        # Patch embedding layer using the defined module\n",
    "        self.patch_embedding = patch_embed(size_input, patch_size, in_channels, embed_dim)\n",
    "\n",
    "        # List of transformer blocks\n",
    "        self.transformer_blocks = nn.ModuleList([\n",
    "            Transformer_(embed_dim, num_heads, hidden_dim) for _ in range(num_ViT_layers)])\n",
    "\n",
    "        # Final linear layer for classification\n",
    "        self.final_output = nn.Linear(embed_dim, num_classes)\n",
    "\n",
    "    def forward(self, x):\n",
    "        x = self.patch_embedding(x)\n",
    "\n",
    "        # Passing through transformer blocks\n",
    "        for transformer_block in self.transformer_blocks:\n",
    "            x = transformer_block(x)\n",
    "\n",
    "        # Taking the output of the first token in the final classification layer\n",
    "        x = self.final_output(x[:, 0])\n",
    "        return x"
   ]
  },
  {
   "cell_type": "markdown",
   "metadata": {
    "id": "MHGHxMDi87Fm"
   },
   "source": [
    "Then, I instantiate ViT model as below:"
   ]
  },
  {
   "cell_type": "code",
   "execution_count": 9,
   "metadata": {
    "id": "Uk7c130e87Mt"
   },
   "outputs": [],
   "source": [
    "model = Vision_Transformer(size_input=28, patch_size=4, in_channels=1, embed_dim=64, num_ViT_layers=6, num_heads=4)"
   ]
  },
  {
   "cell_type": "markdown",
   "metadata": {
    "id": "WmA2FLYX9tIA"
   },
   "source": [
    "We can see the model architecture as below:"
   ]
  },
  {
   "cell_type": "code",
   "execution_count": 10,
   "metadata": {
    "colab": {
     "base_uri": "https://localhost:8080/"
    },
    "id": "DARjDl3Y9wMW",
    "outputId": "32aa9a89-bd54-42bc-8a5c-9161e4c67a27"
   },
   "outputs": [
    {
     "name": "stdout",
     "output_type": "stream",
     "text": [
      "Vision_Transformer(\n",
      "  (patch_embedding): patch_embed(\n",
      "    (embed): Conv2d(1, 64, kernel_size=(4, 4), stride=(4, 4))\n",
      "  )\n",
      "  (transformer_blocks): ModuleList(\n",
      "    (0-5): 6 x Transformer_(\n",
      "      (attention): Multi_Head_Attention(\n",
      "        (query): Linear(in_features=64, out_features=64, bias=True)\n",
      "        (key): Linear(in_features=64, out_features=64, bias=True)\n",
      "        (value): Linear(in_features=64, out_features=64, bias=True)\n",
      "        (final_FC): Linear(in_features=64, out_features=64, bias=True)\n",
      "      )\n",
      "      (norm_attention): LayerNorm((64,), eps=1e-05, elementwise_affine=True)\n",
      "      (mlp): Sequential(\n",
      "        (0): Linear(in_features=64, out_features=64, bias=True)\n",
      "        (1): ReLU()\n",
      "        (2): Linear(in_features=64, out_features=64, bias=True)\n",
      "      )\n",
      "      (norm_mlp): LayerNorm((64,), eps=1e-05, elementwise_affine=True)\n",
      "    )\n",
      "  )\n",
      "  (final_output): Linear(in_features=64, out_features=10, bias=True)\n",
      ")\n"
     ]
    }
   ],
   "source": [
    "print(model)"
   ]
  },
  {
   "cell_type": "markdown",
   "metadata": {
    "id": "Ia94fpk-9yXP"
   },
   "source": [
    "Next, I define the loss function and optimizer.  I use the cross entropy loss function since it is suitable for multi-class classifcation tasks. (It combines log of the softmax function and Negative Log Likelihood loss in a single class.) I also use the Adam optimizer which is a variant of stochastic\n",
    "gradient descent. I set the learning rate to 0.001."
   ]
  },
  {
   "cell_type": "code",
   "execution_count": 11,
   "metadata": {
    "id": "Sm3UP9Rk95VG"
   },
   "outputs": [],
   "source": [
    "loss_function = nn.CrossEntropyLoss()\n",
    "optimizer = optim.Adam(model.parameters(), lr=0.001)"
   ]
  },
  {
   "cell_type": "markdown",
   "metadata": {
    "id": "AQh0b37W-NDl"
   },
   "source": [
    "Next I defne the training loop, where this algorithm is iterated for 10 epochs. After each epoch, it evaluates the model performance on both training and test datasets. For test dataset, it calculates the test loss without performing backpropagation."
   ]
  },
  {
   "cell_type": "code",
   "execution_count": 22,
   "metadata": {
    "colab": {
     "base_uri": "https://localhost:8080/"
    },
    "id": "XGwUBsSB-WC_",
    "outputId": "c248d8b7-1e28-46f4-f6fd-6648ad5c06ec"
   },
   "outputs": [
    {
     "name": "stderr",
     "output_type": "stream",
     "text": [
      "100%|██████████| 938/938 [00:31<00:00, 29.93it/s]\n"
     ]
    },
    {
     "name": "stdout",
     "output_type": "stream",
     "text": [
      "for epoch number 1, Loss_train: 0.207, Loss_test: 0.339\n"
     ]
    },
    {
     "name": "stderr",
     "output_type": "stream",
     "text": [
      "100%|██████████| 938/938 [00:29<00:00, 32.22it/s]\n"
     ]
    },
    {
     "name": "stdout",
     "output_type": "stream",
     "text": [
      "for epoch number 2, Loss_train: 0.198, Loss_test: 0.313\n"
     ]
    },
    {
     "name": "stderr",
     "output_type": "stream",
     "text": [
      "100%|██████████| 938/938 [00:29<00:00, 31.74it/s]\n"
     ]
    },
    {
     "name": "stdout",
     "output_type": "stream",
     "text": [
      "for epoch number 3, Loss_train: 0.189, Loss_test: 0.325\n"
     ]
    },
    {
     "name": "stderr",
     "output_type": "stream",
     "text": [
      "100%|██████████| 938/938 [00:29<00:00, 32.19it/s]\n"
     ]
    },
    {
     "name": "stdout",
     "output_type": "stream",
     "text": [
      "for epoch number 4, Loss_train: 0.179, Loss_test: 0.315\n"
     ]
    },
    {
     "name": "stderr",
     "output_type": "stream",
     "text": [
      "100%|██████████| 938/938 [00:29<00:00, 32.33it/s]\n"
     ]
    },
    {
     "name": "stdout",
     "output_type": "stream",
     "text": [
      "for epoch number 5, Loss_train: 0.166, Loss_test: 0.324\n"
     ]
    },
    {
     "name": "stderr",
     "output_type": "stream",
     "text": [
      "100%|██████████| 938/938 [00:29<00:00, 31.55it/s]\n"
     ]
    },
    {
     "name": "stdout",
     "output_type": "stream",
     "text": [
      "for epoch number 6, Loss_train: 0.161, Loss_test: 0.333\n"
     ]
    },
    {
     "name": "stderr",
     "output_type": "stream",
     "text": [
      "100%|██████████| 938/938 [00:29<00:00, 32.26it/s]\n"
     ]
    },
    {
     "name": "stdout",
     "output_type": "stream",
     "text": [
      "for epoch number 7, Loss_train: 0.154, Loss_test: 0.349\n"
     ]
    },
    {
     "name": "stderr",
     "output_type": "stream",
     "text": [
      "100%|██████████| 938/938 [00:29<00:00, 32.23it/s]\n"
     ]
    },
    {
     "name": "stdout",
     "output_type": "stream",
     "text": [
      "for epoch number 8, Loss_train: 0.145, Loss_test: 0.316\n"
     ]
    },
    {
     "name": "stderr",
     "output_type": "stream",
     "text": [
      "100%|██████████| 938/938 [00:29<00:00, 31.51it/s]\n"
     ]
    },
    {
     "name": "stdout",
     "output_type": "stream",
     "text": [
      "for epoch number 9, Loss_train: 0.140, Loss_test: 0.342\n"
     ]
    },
    {
     "name": "stderr",
     "output_type": "stream",
     "text": [
      "100%|██████████| 938/938 [00:29<00:00, 31.50it/s]\n"
     ]
    },
    {
     "name": "stdout",
     "output_type": "stream",
     "text": [
      "for epoch number 10, Loss_train: 0.130, Loss_test: 0.345\n"
     ]
    },
    {
     "name": "stderr",
     "output_type": "stream",
     "text": [
      "100%|██████████| 938/938 [00:29<00:00, 32.00it/s]\n"
     ]
    },
    {
     "name": "stdout",
     "output_type": "stream",
     "text": [
      "for epoch number 11, Loss_train: 0.128, Loss_test: 0.345\n"
     ]
    }
   ],
   "source": [
    "train_losses = []\n",
    "test_losses = []\n",
    "\n",
    "device = torch.device(\"cuda\" if torch.cuda.is_available() else \"cpu\")\n",
    "model.to(device)\n",
    "\n",
    "for epoch in range(11):\n",
    "    train_loss = test_loss = 0\n",
    "\n",
    "    for idx, data in enumerate(tqdm(dataloader_train)):\n",
    "        inputs, target = data[0].to(device), data[1].to(device)\n",
    "        optimizer.zero_grad()\n",
    "\n",
    "    # Forward pass to get the predictions from the model.\n",
    "        predicted = model(inputs)\n",
    "\n",
    "    # Calculates the loss between predicted and target values using the defined loss function.\n",
    "        loss = loss_function(predicted, target)\n",
    "\n",
    "    # Backpropagating the gradients and computing the gradient of the loss with respect to the parameters.\n",
    "        loss.backward()\n",
    "\n",
    "    # Updates the model parameters\n",
    "        optimizer.step()\n",
    "        train_loss += loss.item()\n",
    "\n",
    "    with torch.no_grad():\n",
    "        for test_data in dataloader_test:\n",
    "            input, target = test_data\n",
    "            predicted = model(input.to(device))\n",
    "            test_loss += (loss_function(predicted, target.to(device))).item()\n",
    "\n",
    "    train_losses.append(train_loss / len(dataloader_train))\n",
    "    test_losses.append(test_loss / len(dataloader_test))\n",
    "\n",
    "    print('for epoch number {}, Loss_train: {:.3f}, Loss_test: {:.3f}'.format(epoch+1, train_loss / len(dataloader_train), test_loss / len(dataloader_test)))"
   ]
  },
  {
   "cell_type": "markdown",
   "metadata": {
    "id": "gqilLej5BsUq"
   },
   "source": [
    "Reporting the test accuracy on the fnal model, and plotting the train_losses and test_losses that\n",
    "were computed during training:"
   ]
  },
  {
   "cell_type": "code",
   "execution_count": 23,
   "metadata": {
    "colab": {
     "base_uri": "https://localhost:8080/"
    },
    "id": "SfIPzeXkBtpH",
    "outputId": "e7d301a2-d956-42c7-f7cc-c1bf3ad3b7d0"
   },
   "outputs": [
    {
     "name": "stdout",
     "output_type": "stream",
     "text": [
      "Accuracy on test set: 89.33%\n"
     ]
    }
   ],
   "source": [
    "from sklearn.metrics import accuracy_score\n",
    "\n",
    "predicted_ = []\n",
    "ground_truth = []\n",
    "with torch.no_grad():\n",
    "    for data in dataloader_test:\n",
    "        images, target = data\n",
    "        predicted = model(images.to(device))\n",
    "        idx, predicted = torch.max(predicted.data, 1)\n",
    "        predicted_.extend(predicted.tolist())\n",
    "        ground_truth.extend(target.tolist())\n",
    "\n",
    "accuracy = accuracy_score(ground_truth, predicted_)\n",
    "print('Accuracy on test set: {:.2f}%'.format(100 * accuracy))"
   ]
  },
  {
   "cell_type": "code",
   "execution_count": 26,
   "metadata": {
    "colab": {
     "base_uri": "https://localhost:8080/",
     "height": 472
    },
    "id": "KLtu8oVoCCpV",
    "outputId": "7eda72b8-93ca-488b-9564-fa9e377dca4f"
   },
   "outputs": [
    {
     "data": {
      "image/png": "[encoded data removed]",
      "text/plain": [
       "<Figure size 640x480 with 1 Axes>"
      ]
     },
     "metadata": {},
     "output_type": "display_data"
    }
   ],
   "source": [
    "import matplotlib.pyplot as plt\n",
    "\n",
    "plt.plot(train_losses, label='Training Loss')\n",
    "plt.plot(test_losses, label='Testing Loss')\n",
    "plt.xlabel('Epoch')\n",
    "plt.ylabel('Loss')\n",
    "plt.title('Training and Testing Loss Curves')\n",
    "plt.ylim([0,0.8])\n",
    "plt.legend()\n",
    "plt.show()"
   ]
  },
  {
   "cell_type": "markdown",
   "metadata": {
    "id": "t6zqzpmYCH2a"
   },
   "source": [
    "Next, I defne a function to plot images with predicted probabilities as below. Each subplot shows\n",
    "an input image, its corresponding label (which are computed using softmax function), and the\n",
    "predicted probabilities for each class. I visualize the results on 3 test samples."
   ]
  },
  {
   "cell_type": "code",
   "execution_count": 27,
   "metadata": {
    "id": "A0K2bjfrCIdE"
   },
   "outputs": [],
   "source": [
    "def plot_results(x, y, pred_p, num_data=3):\n",
    "    fig, axes = plt.subplots(num_data, 2, figsize=(9, 3*num_data))\n",
    "\n",
    "    for i, (data, ground_truth, prob) in enumerate(zip(x[:num_data], y[:num_data], pred_p[:num_data])):\n",
    "        axes[i, 0].imshow(data.squeeze(), cmap='gray')\n",
    "        axes[i, 0].set_title(f'Ground Truth class: {ground_truth}')\n",
    "        axes[i, 1].bar(np.arange(len(prob)), prob)\n",
    "        axes[i, 1].set_xticks(np.arange(len(prob)))\n",
    "        axes[i, 1].set_title('Probabilities')\n",
    "\n",
    "    plt.show()"
   ]
  },
  {
   "cell_type": "markdown",
   "metadata": {
    "id": "M0MIWVYhCjAC"
   },
   "source": [
    "Predict on test dataset"
   ]
  },
  {
   "cell_type": "code",
   "execution_count": 32,
   "metadata": {
    "colab": {
     "base_uri": "https://localhost:8080/",
     "height": 776
    },
    "id": "VieofZQ2Cgld",
    "outputId": "fb047e03-ed0e-4c19-c04b-3240f5078758"
   },
   "outputs": [
    {
     "data": {
      "image/png": "[encoded data removed]",
      "text/plain": [
       "<Figure size 900x900 with 6 Axes>"
      ]
     },
     "metadata": {},
     "output_type": "display_data"
    }
   ],
   "source": [
    "import numpy as np\n",
    "\n",
    "model.eval()\n",
    "x_test, y_test = next(iter(dataloader_test))\n",
    "with torch.no_grad():\n",
    "    predicted = model(x_test.to(device))\n",
    "    predicted_probs = torch.softmax(predicted, dim=1)\n",
    "\n",
    "plot_results(x_test.cpu().detach().numpy(), y_test.cpu().detach().numpy(), predicted_probs.cpu().detach().numpy())"
   ]
  },
  {
   "cell_type": "markdown",
   "metadata": {
    "id": "6YLaTGl7CnwD"
   },
   "source": [
    "As we can see, the model predicts the true label with high probability."
   ]
  }
 ],
 "metadata": {
  "accelerator": "GPU",
  "colab": {
   "gpuType": "T4",
   "provenance": []
  },
  "kernelspec": {
   "display_name": "Python 3 (ipykernel)",
   "language": "python",
   "name": "python3"
  },
  "language_info": {
   "codemirror_mode": {
    "name": "ipython",
    "version": 3
   },
   "file_extension": ".py",
   "mimetype": "text/x-python",
   "name": "python",
   "nbconvert_exporter": "python",
   "pygments_lexer": "ipython3",
   "version": "3.11.5"
  }
 },
 "nbformat": 4,
 "nbformat_minor": 1
}
